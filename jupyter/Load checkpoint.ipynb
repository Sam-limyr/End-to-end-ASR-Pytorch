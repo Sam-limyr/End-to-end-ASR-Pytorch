{
 "cells": [
  {
   "cell_type": "code",
   "execution_count": 1,
   "id": "443485d3",
   "metadata": {},
   "outputs": [
    {
     "name": "stdout",
     "output_type": "stream",
     "text": [
      "Using torch 1.9.1 (NVIDIA GeForce RTX 3060 Laptop GPU)\n",
      "torchaudio 0.9.0a0+a85b239\n"
     ]
    }
   ],
   "source": [
    "%load_ext autoreload\n",
    "%autoreload 2\n",
    "\n",
    "import numpy as np\n",
    "import torch\n",
    "import torchaudio\n",
    "\n",
    "print(f\"Using torch {torch.__version__} ({torch.cuda.get_device_properties(0).name if torch.cuda.is_available() else 'CPU'})\")\n",
    "print(f\"torchaudio {torchaudio.__version__}\")"
   ]
  },
  {
   "cell_type": "markdown",
   "id": "229e9519-5225-416b-af54-190337116268",
   "metadata": {},
   "source": [
    "## Load ckpt"
   ]
  },
  {
   "cell_type": "code",
   "execution_count": 2,
   "id": "0de8c610-58d0-44ee-9c6a-f4158d7f1f69",
   "metadata": {},
   "outputs": [
    {
     "data": {
      "text/plain": [
       "dict_keys(['model', 'optimizer', 'global_step', 'wer'])"
      ]
     },
     "execution_count": 2,
     "metadata": {},
     "output_type": "execute_result"
    }
   ],
   "source": [
    "ckpt_pth = '../ckpt/asr_rnnext_sd0/best_ctc.pth'\n",
    "ckpt = torch.load(ckpt_pth, map_location='cpu')\n",
    "ckpt.keys()"
   ]
  },
  {
   "cell_type": "code",
   "execution_count": 3,
   "id": "703af883-58a5-4183-bc5e-4522a9021285",
   "metadata": {},
   "outputs": [
    {
     "name": "stdout",
     "output_type": "stream",
     "text": [
      "restarting at step 2000 (recorded wer = 0.83 %)\n"
     ]
    }
   ],
   "source": [
    "for k, v in ckpt.items():\n",
    "    if type(v) is float:\n",
    "        metric, score = k, v\n",
    "# print('Load ckpt from {}, restarting at step {} (recorded {} = {:.2f} %)'.format(ckpt_pth, ckpt['global_step'], metric, score))\n",
    "print('restarting at step {} (recorded {} = {:.2f} %)'.format(ckpt['global_step'], metric, score))"
   ]
  },
  {
   "cell_type": "code",
   "execution_count": null,
   "id": "5de12a52-75f6-4105-bf14-48e583b139ae",
   "metadata": {},
   "outputs": [],
   "source": []
  },
  {
   "cell_type": "code",
   "execution_count": null,
   "id": "caf9566d-8e80-4e4f-9202-cb2a43cfae60",
   "metadata": {},
   "outputs": [],
   "source": []
  }
 ],
 "metadata": {
  "kernelspec": {
   "display_name": "Python 3 (ipykernel)",
   "language": "python",
   "name": "python3"
  },
  "language_info": {
   "codemirror_mode": {
    "name": "ipython",
    "version": 3
   },
   "file_extension": ".py",
   "mimetype": "text/x-python",
   "name": "python",
   "nbconvert_exporter": "python",
   "pygments_lexer": "ipython3",
   "version": "3.9.7"
  }
 },
 "nbformat": 4,
 "nbformat_minor": 5
}
